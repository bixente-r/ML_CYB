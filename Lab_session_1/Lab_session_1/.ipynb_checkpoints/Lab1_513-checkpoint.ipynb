{
 "cells": [
  {
   "cell_type": "markdown",
   "id": "5ecab558",
   "metadata": {},
   "source": [
    "---\n",
    "# AERO 5 - Hands on Machine Learning for cybersecurity (2023/2024)\n",
    "\n",
    "# 1– Introduction, technical requirements\n",
    "---"
   ]
  },
  {
   "cell_type": "markdown",
   "id": "f1ce10c1",
   "metadata": {},
   "source": [
    "This lab session is an introduction to some basic Machine Learning notions in order to discuss how to set up a Machine Learning environment where we will do the entire coding for the rest of chapters."
   ]
  },
  {
   "cell_type": "markdown",
   "id": "a63abf73",
   "metadata": {},
   "source": [
    "## 1. Generating Text unisng Markov Chain"
   ]
  },
  {
   "cell_type": "markdown",
   "id": "96b0fac1",
   "metadata": {},
   "source": [
    "Markov chains are stochastic models in which a system can exist in a numer of states. In this exercise, we discover how to generate text using Markov chains. "
   ]
  },
  {
   "cell_type": "markdown",
   "id": "e5b7c8fa",
   "metadata": {},
   "source": [
    "1. Start by importing the relevant python packages : the `pandas` will be used to enable data frame capabilities, the `scikit-learn` package will be used to divide the data into training and testing datasets. Import also `markovify`librairy that simplifies the process of building and using Markov chain models for text generation."
   ]
  },
  {
   "cell_type": "code",
   "execution_count": null,
   "id": "25aea8e3",
   "metadata": {},
   "outputs": [],
   "source": [
    "# EDIT THIS CELL\n",
    "# ====================== Your code here =================\n",
    "\n",
    "\n",
    "\n",
    "# ======================================================="
   ]
  },
  {
   "cell_type": "markdown",
   "id": "8845a2c9",
   "metadata": {},
   "source": [
    "2. Load the data `airport_reviews.csv` then analyze it. "
   ]
  },
  {
   "cell_type": "code",
   "execution_count": null,
   "id": "6af783f6",
   "metadata": {},
   "outputs": [],
   "source": [
    "# EDIT THIS CELL\n",
    "# ====================== Your code here =================\n",
    "\n",
    "\n",
    "\n",
    "# ======================================================="
   ]
  },
  {
   "cell_type": "markdown",
   "id": "f66e0217",
   "metadata": {},
   "source": [
    "We join the individual reviews into one large string and build a Markov chain model using the airport review text. The library will then compute the transition word probabilities from text. "
   ]
  },
  {
   "cell_type": "code",
   "execution_count": null,
   "id": "7d603c25",
   "metadata": {},
   "outputs": [],
   "source": [
    "from itertools import chain\n",
    "N=100\n",
    "review_subset=data[\"content\"][0:N] #data contains the imported dataset\n",
    "text=\"\".join(chain_iterable(review_subset))\n",
    "markov_chain_model=markovify.Text(tex)"
   ]
  },
  {
   "cell_type": "markdown",
   "id": "04f4118d",
   "metadata": {},
   "source": [
    "2. Generate five sentences using the Markov chain model and anaylze the output."
   ]
  },
  {
   "cell_type": "code",
   "execution_count": null,
   "id": "e610352f",
   "metadata": {},
   "outputs": [],
   "source": [
    "# EDIT THIS CELL\n",
    "# ====================== Your code here =================\n",
    "\n",
    "\n",
    "\n",
    "# ======================================================="
   ]
  },
  {
   "cell_type": "markdown",
   "id": "c1b3970a",
   "metadata": {},
   "source": [
    "3. Generate now three sentences with a length no more than 140 characters, then analyze the output."
   ]
  },
  {
   "cell_type": "code",
   "execution_count": null,
   "id": "0145e202",
   "metadata": {},
   "outputs": [],
   "source": [
    "# EDIT THIS CELL\n",
    "# ====================== Your code here =================\n",
    "\n",
    "\n",
    "\n",
    "# ======================================================="
   ]
  },
  {
   "cell_type": "markdown",
   "id": "883a4353",
   "metadata": {},
   "source": [
    "## 2. Time series "
   ]
  },
  {
   "cell_type": "markdown",
   "id": "680c1ce8",
   "metadata": {},
   "source": [
    "Time series can be very powerful for predecting cyberattacks. In this execise, we wil demonstarte several methods for making using time series data. "
   ]
  },
  {
   "cell_type": "markdown",
   "id": "0d5b1dd9",
   "metadata": {},
   "source": [
    "1. Start by generating a time series. Then plot your data."
   ]
  },
  {
   "cell_type": "code",
   "execution_count": null,
   "id": "3e997ea6",
   "metadata": {},
   "outputs": [],
   "source": [
    "# EDIT THIS CELL\n",
    "# ====================== Your code here =================\n",
    "\n",
    "\n",
    "\n",
    "# ======================================================="
   ]
  },
  {
   "cell_type": "markdown",
   "id": "1ddab830",
   "metadata": {},
   "source": [
    "There is a large variety of techniques that we can use to predict the consequent value of a time series. Such as the autoregression (AR), the moving average (MA) and the simple exponential smoothing (SES).Train those three different models and compare the different resulting predictions.   "
   ]
  },
  {
   "cell_type": "code",
   "execution_count": null,
   "id": "807d6980",
   "metadata": {},
   "outputs": [],
   "source": [
    "# EDIT THIS CELL\n",
    "from statsmodels.tsa.ar_model import AR\n",
    "from statsmodels.tsa.arima_model import ARMA\n",
    "from statsmodels.tsa.holtwinters import SimpleExpSmoothing\n",
    "# ====================== Your code here =================\n",
    "\n",
    "\n",
    "\n",
    "# ======================================================="
   ]
  },
  {
   "cell_type": "markdown",
   "id": "a79906d7",
   "metadata": {},
   "source": [
    "2. Describe the obtained results."
   ]
  },
  {
   "cell_type": "code",
   "execution_count": null,
   "id": "e397a648",
   "metadata": {},
   "outputs": [],
   "source": [
    "# EDIT THIS CELL"
   ]
  },
  {
   "cell_type": "markdown",
   "id": "fb20f14f",
   "metadata": {},
   "source": [
    "## 3. Natural langage processing"
   ]
  },
  {
   "cell_type": "markdown",
   "id": "76514dcd",
   "metadata": {},
   "source": [
    "It is essential in cybersecurity to work with text data. Il this execise, you will discover the important tools to convert such data into numerical features. Start by considering the following data set consisting of an excerpt of conversations taking place on an Internet Relay Channel (IRC) channel `anopops`."
   ]
  },
  {
   "cell_type": "code",
   "execution_count": 9,
   "id": "89aaa9af",
   "metadata": {},
   "outputs": [],
   "source": [
    "with open(\"anonops_short.txt\", encoding=\"utf8\") as f:\n",
    "    anonops_chat_logs = f.readlines()"
   ]
  },
  {
   "cell_type": "code",
   "execution_count": null,
   "id": "11ef52ea",
   "metadata": {},
   "outputs": [],
   "source": [
    "anonops_chat_logs"
   ]
  },
  {
   "cell_type": "markdown",
   "id": "c2e520d6",
   "metadata": {},
   "source": [
    "1. After analyzing your data, convert it into numerical form, amenable to Machine Learning algorithms.\\\n",
    "https://scikit-learn.org/stable/modules/generated/sklearn.feature_extraction.text.CountVectorizer.html will you help you find the appropriate tools.\\\n",
    "Note that the end result should be a sparse matrix with each row being a vector representing one of the texts."
   ]
  },
  {
   "cell_type": "code",
   "execution_count": null,
   "id": "45cefb22",
   "metadata": {},
   "outputs": [],
   "source": [
    "# EDIT THIS CELL\n",
    "# ====================== Your code here =================\n",
    "\n",
    "\n",
    "\n",
    "# ======================================================="
   ]
  },
  {
   "cell_type": "markdown",
   "id": "4e0131f7",
   "metadata": {},
   "source": [
    "2. Describe the obtained results. "
   ]
  },
  {
   "cell_type": "code",
   "execution_count": null,
   "id": "6e154dd6",
   "metadata": {},
   "outputs": [],
   "source": [
    "# EDIT THIS CELL"
   ]
  },
  {
   "cell_type": "markdown",
   "id": "9b556316",
   "metadata": {},
   "source": [
    "## 4. Standardizing data"
   ]
  },
  {
   "cell_type": "markdown",
   "id": "801fb02f",
   "metadata": {},
   "source": [
    "In many Machine Learning algorithms, performance is highly sensitive to the relative scale of features. "
   ]
  },
  {
   "cell_type": "markdown",
   "id": "855d7971",
   "metadata": {},
   "source": [
    "1. Start by importing the required librairies and gathering a dataset, `X` from `file_pe_headers.csv`. This dataset contains various files malicious signature probably sourced from Virus Total."
   ]
  },
  {
   "cell_type": "code",
   "execution_count": null,
   "id": "2b0117f3",
   "metadata": {},
   "outputs": [],
   "source": [
    "# EDIT THIS CELL\n",
    "# ====================== Your code here =================\n",
    "\n",
    "\n",
    "\n",
    "# ======================================================="
   ]
  },
  {
   "cell_type": "markdown",
   "id": "ba717f9b",
   "metadata": {},
   "source": [
    "2. Next, standardize `X`. How the new dataset looks like?"
   ]
  },
  {
   "cell_type": "code",
   "execution_count": null,
   "id": "a3a97df0",
   "metadata": {},
   "outputs": [],
   "source": [
    "# EDIT THIS CELL\n",
    "# ====================== Your code here =================\n",
    "\n",
    "\n",
    "\n",
    "# ======================================================="
   ]
  },
  {
   "cell_type": "markdown",
   "id": "eeae6f72",
   "metadata": {},
   "source": [
    "3. Knowing that with a large feature space, it is critical to have a large amount of data for the model to be accurate. That is why we often employ dimensionality reduction techniques such as Principal Components Analysis (PCA). Instantiate a PCA instance and use it to reduce the dimensionality of our data. "
   ]
  },
  {
   "cell_type": "code",
   "execution_count": null,
   "id": "d2f4f3f5",
   "metadata": {},
   "outputs": [],
   "source": [
    "# EDIT THIS CELL\n",
    "# ====================== Your code here =================\n",
    "\n",
    "\n",
    "\n",
    "# ======================================================="
   ]
  },
  {
   "cell_type": "markdown",
   "id": "e9e4f4d7",
   "metadata": {},
   "source": [
    "4. Assess then the effectiveness of your dimensionality reduction."
   ]
  },
  {
   "cell_type": "code",
   "execution_count": null,
   "id": "20e4977d",
   "metadata": {},
   "outputs": [],
   "source": [
    "# EDIT THIS CELL\n",
    "# ====================== Your code here =================\n",
    "\n",
    "\n",
    "\n",
    "# ======================================================="
   ]
  },
  {
   "cell_type": "markdown",
   "id": "3d53992a",
   "metadata": {},
   "source": [
    "## 5. Clustering"
   ]
  },
  {
   "cell_type": "markdown",
   "id": "6029497e",
   "metadata": {},
   "source": [
    "Clustering is a collection of unsupervised Machine Learning algorithms in which parts of the data are grouped based on similarity. Clustering may be useful in cybersecurity for helping to classify malware into families. In this exercise, ypu will demonstrate how clustering performs on malware classification considereing the same previous dataset. "
   ]
  },
  {
   "cell_type": "markdown",
   "id": "d3f6196f",
   "metadata": {},
   "source": [
    "1. Read and plot your data."
   ]
  },
  {
   "cell_type": "code",
   "execution_count": null,
   "id": "84538c5b",
   "metadata": {},
   "outputs": [],
   "source": [
    "# EDIT THIS CELL\n",
    "# ====================== Your code here =================\n",
    "\n",
    "\n",
    "\n",
    "# ======================================================="
   ]
  },
  {
   "cell_type": "markdown",
   "id": "a3bcd922",
   "metadata": {},
   "source": [
    "2. Extract then the features and the target labels. "
   ]
  },
  {
   "cell_type": "code",
   "execution_count": null,
   "id": "1442f677",
   "metadata": {},
   "outputs": [],
   "source": [
    "# EDIT THIS CELL\n",
    "# ====================== Your code here =================\n",
    "\n",
    "\n",
    "\n",
    "# ======================================================="
   ]
  },
  {
   "cell_type": "markdown",
   "id": "9e1c7236",
   "metadata": {},
   "source": [
    "3. Import `sckit-learn's` clustering model and fit a `K-means` model with two clusters to the data."
   ]
  },
  {
   "cell_type": "code",
   "execution_count": null,
   "id": "6515c0c5",
   "metadata": {},
   "outputs": [],
   "source": [
    "# EDIT THIS CELL\n",
    "# ====================== Your code here =================\n",
    "\n",
    "\n",
    "\n",
    "# ======================================================="
   ]
  },
  {
   "cell_type": "markdown",
   "id": "9d782469",
   "metadata": {},
   "source": [
    "4. Predict then clusters using the trained algorithm. Then plot the algorithm's output. Conclude. "
   ]
  },
  {
   "cell_type": "code",
   "execution_count": null,
   "id": "aba10227",
   "metadata": {},
   "outputs": [],
   "source": [
    "# EDIT THIS CELL\n",
    "# ====================== Your code here =================\n",
    "\n",
    "\n",
    "\n",
    "# ======================================================="
   ]
  }
 ],
 "metadata": {
  "kernelspec": {
   "display_name": "Python 3 (ipykernel)",
   "language": "python",
   "name": "python3"
  },
  "language_info": {
   "codemirror_mode": {
    "name": "ipython",
    "version": 3
   },
   "file_extension": ".py",
   "mimetype": "text/x-python",
   "name": "python",
   "nbconvert_exporter": "python",
   "pygments_lexer": "ipython3",
   "version": "3.11.4"
  }
 },
 "nbformat": 4,
 "nbformat_minor": 5
}
