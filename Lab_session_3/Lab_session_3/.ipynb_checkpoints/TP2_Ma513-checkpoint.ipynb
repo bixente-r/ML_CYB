{
 "cells": [
  {
   "cell_type": "markdown",
   "metadata": {},
   "source": [
    "---\n",
    "\n",
    "# AERO 5 - Hands on Machine Learning for cybersecurity (2022/2023)\n",
    "\n",
    "\n",
    "# 2– Machine Learning for malicious URLs detection\n",
    "\n",
    "by Leila GHARSALLI\n",
    "\n",
    "---\n"
   ]
  },
  {
   "cell_type": "markdown",
   "metadata": {},
   "source": [
    "In this lab session we will discuss how the ML is used for the malicious URLs detection. This will first involve in cleaning of our data within the datasets. We will use pandas and define our own vectorizer to clear the datasets. More on this later, we will use Logistic Regression then the Support Vector Machine to train our model! The `scikit-learn` documentation is complete and should be consulted whenever necessary. In particular you can consult :\n",
    "\n",
    "https://scikit-learn.org/stable/modules/generated/sklearn.linear_model.LogisticRegression.html\n",
    "\n",
    "https://scikit-learn.org/stable/modules/svm.html"
   ]
  },
  {
   "cell_type": "markdown",
   "metadata": {},
   "source": [
    "# Exercise 1:"
   ]
  },
  {
   "cell_type": "markdown",
   "metadata": {},
   "source": [
    "Logistic regression is a binary classification technique. A key difference from linear regression is that the output value being modeled is a binary values (0 or 1) rather than a numeric value. In this exercise, we will apply a logistic regression model to a preprocessed dataset resulting from phishing websites `phishing_dataset.csv`"
   ]
  },
  {
   "cell_type": "markdown",
   "metadata": {},
   "source": [
    "### Question 1: \n",
    "Import the necessary packages that allows you to create matrices, perform mathematical operations and create graphs to easily observe our dataset as well as the model built from it. Then load the data."
   ]
  },
  {
   "cell_type": "code",
   "execution_count": null,
   "metadata": {},
   "outputs": [],
   "source": [
    "# EDIT THIS CELL\n",
    "# ====================== WRITE HERE =================\n",
    "\n",
    "\n",
    "\n",
    "# ==================================================="
   ]
  },
  {
   "cell_type": "markdown",
   "metadata": {},
   "source": [
    "### Question 2: \n",
    "Could you propose an implementation of the logistic regression method without using the `scikit-learn` package?"
   ]
  },
  {
   "cell_type": "code",
   "execution_count": null,
   "metadata": {},
   "outputs": [],
   "source": [
    "# EDIT THIS CELL\n",
    "# ====================== WRITE HERE =================\n",
    "\n",
    "\n",
    "\n",
    "# ==================================================="
   ]
  },
  {
   "cell_type": "markdown",
   "metadata": {},
   "source": [
    "### Question 3: \n",
    "Load your dataset, analyse it then put the attributes and the targets in variables \"samples\" and \"targets\" respectively."
   ]
  },
  {
   "cell_type": "code",
   "execution_count": null,
   "metadata": {},
   "outputs": [],
   "source": [
    "# EDIT THIS CELL\n",
    "# ====================== WRITE HERE =================\n",
    "\n",
    "\n",
    "\n",
    "# ==================================================="
   ]
  },
  {
   "cell_type": "markdown",
   "metadata": {},
   "source": [
    "### Question 4:\n",
    "Split data into training and testing sets."
   ]
  },
  {
   "cell_type": "code",
   "execution_count": null,
   "metadata": {},
   "outputs": [],
   "source": [
    "# EDIT THIS CELL\n",
    "# ====================== WRITE HERE =================\n",
    "\n",
    "\n",
    "\n",
    "# ==================================================="
   ]
  },
  {
   "cell_type": "markdown",
   "metadata": {},
   "source": [
    "### Question 5:\n",
    "Apply now the logistic regression to train and test the model then return the mean accuracy on the given test data by computing fist the model score then the error matrix: the confusion matrix. Comment on the obtained resut."
   ]
  },
  {
   "cell_type": "code",
   "execution_count": 1,
   "metadata": {},
   "outputs": [],
   "source": [
    "# EDIT THIS CELL\n",
    "# ====================== WRITE HERE =================\n",
    "\n",
    "\n",
    "\n",
    "# ==================================================="
   ]
  },
  {
   "cell_type": "markdown",
   "metadata": {},
   "source": [
    "# Exercise 2:"
   ]
  },
  {
   "cell_type": "markdown",
   "metadata": {},
   "source": [
    "## Logistic regression"
   ]
  },
  {
   "cell_type": "markdown",
   "metadata": {},
   "source": [
    "1. Data collection:\n",
    "\n",
    "    The first task is gathering data. We can find some websites offering malicious links while browsing. The second task is finding out clear URLs. This time, we use a data set that is already available, and that doesn’t need to be crawled. Hence, we gathered around 500,000 URLs out of which around 90,000 were malicious and others were legitimate/clean."
   ]
  },
  {
   "cell_type": "markdown",
   "metadata": {},
   "source": [
    "2. Preparing data:\n",
    "\n",
    "    Since the URLs are different from our normal text documents, they need to undergo some amount of cleasing before we use them. Therefore, we tokenize them by removing slash, dots and coms."
   ]
  },
  {
   "cell_type": "markdown",
   "metadata": {},
   "source": [
    "### Question 1: \n",
    "Import `numpy`, `pandas` and `random` librairies. Then Write a sanitization function to get the relevant data from raw URLs."
   ]
  },
  {
   "cell_type": "code",
   "execution_count": null,
   "metadata": {},
   "outputs": [],
   "source": [
    "#EDIT THIS CELL\n",
    "# ====================== WRITE HERE =================\n",
    "def url_cleanse(web_url)\n",
    "\n",
    "\n",
    "# ==================================================="
   ]
  },
  {
   "cell_type": "markdown",
   "metadata": {},
   "source": [
    "This will give us the desired url data-set values to train the model and test it. The dataset will have two column structures; one for urls and one for labels."
   ]
  },
  {
   "cell_type": "markdown",
   "metadata": {},
   "source": [
    "We read the the datasets into dataframes and matrix which can be understood by the vectorizer.\n"
   ]
  },
  {
   "cell_type": "code",
   "execution_count": null,
   "metadata": {},
   "outputs": [],
   "source": [
    "url_csv = pd.read_csv('data_url.csv',',',error_bad_lines=False)\n",
    "url_df = pd.DataFrame(url_csv)              # to convert into data frames                                                                                  \n",
    "url_df = np.array(url_df)                   # to convert into array   \n",
    "random.shuffle(url_df)\n",
    "y = [d[1] for d in url_df]                  # all labels\n",
    "urls = [d[0] for d in url_df]               # all urls corresponding to a label {G/B}"
   ]
  },
  {
   "cell_type": "markdown",
   "metadata": {},
   "source": [
    "Hence, data can be understood by the vectorizer we prepared and later pass onto the term-frequency and inverse document frequency text extraction approach."
   ]
  },
  {
   "cell_type": "markdown",
   "metadata": {},
   "source": [
    "### Question 2: \n",
    "Use `TF-IDF` machine learning text feature extraction approach from the `scikit-learn` python module in order to pass the data to a custom vectorizer function. For more understanding consult \n",
    "https://scikit-learn.org/stable/modules/feature_extraction.html"
   ]
  },
  {
   "cell_type": "code",
   "execution_count": null,
   "metadata": {},
   "outputs": [],
   "source": [
    "#EDIT THIS CELL\n",
    "# ====================== WRITE HERE =================\n",
    "\n",
    "\n",
    "\n",
    "# ==================================================="
   ]
  },
  {
   "cell_type": "markdown",
   "metadata": {},
   "source": [
    "### Question 3:\n",
    "Split data into training and testing sets then use the logistic regression from `scikit-learn` python module to train and test the model."
   ]
  },
  {
   "cell_type": "code",
   "execution_count": null,
   "metadata": {},
   "outputs": [],
   "source": [
    "#EDIT THIS CELL\n",
    "# ====================== WRITE HERE =================\n",
    "\n",
    "\n",
    "\n",
    "# ==================================================="
   ]
  },
  {
   "cell_type": "markdown",
   "metadata": {},
   "source": [
    "### Question 4:\n",
    "Give the mean accuracy on the given test data by computing the score. Comment on the result."
   ]
  },
  {
   "cell_type": "code",
   "execution_count": null,
   "metadata": {},
   "outputs": [],
   "source": [
    "#EDIT THIS CELL\n",
    "# ====================== WRITE HERE =================\n",
    "\n",
    "\n",
    "\n",
    "# ==================================================="
   ]
  },
  {
   "cell_type": "markdown",
   "metadata": {},
   "source": [
    "### Question 5:\n",
    "Use the model to test on URLs ['hackthebox.eu,'google.com/search=VAD3R','wikipedia.co.uk'].\n",
    "                               What do you remark? "
   ]
  },
  {
   "cell_type": "code",
   "execution_count": null,
   "metadata": {},
   "outputs": [],
   "source": [
    "#EDIT THIS CELL\n",
    "# ====================== WRITE HERE =================\n",
    "\n",
    "\n",
    "\n",
    "# ==================================================="
   ]
  },
  {
   "cell_type": "markdown",
   "metadata": {},
   "source": [
    "## Support Vector Machine"
   ]
  },
  {
   "cell_type": "markdown",
   "metadata": {},
   "source": [
    "Now, we will use the SVM approach to detect the malicious URLs."
   ]
  },
  {
   "cell_type": "markdown",
   "metadata": {},
   "source": [
    "### Question 1:\n",
    "Import the required librairies available in `scikit-learn`."
   ]
  },
  {
   "cell_type": "code",
   "execution_count": null,
   "metadata": {},
   "outputs": [],
   "source": [
    "#EDIT THIS CELL\n",
    "# ====================== WRITE HERE =================\n",
    "\n",
    "\n",
    "\n",
    "# ==================================================="
   ]
  },
  {
   "cell_type": "markdown",
   "metadata": {},
   "source": [
    "### Question 2:\n",
    "Use the SVM classifier from `scikit-learn` python module to train and test the model."
   ]
  },
  {
   "cell_type": "code",
   "execution_count": null,
   "metadata": {},
   "outputs": [],
   "source": [
    "#EDIT THIS CELL\n",
    "# ====================== WRITE HERE =================\n",
    "\n",
    "\n",
    "\n",
    "# ==================================================="
   ]
  },
  {
   "cell_type": "markdown",
   "metadata": {},
   "source": [
    "### Question 3:\n",
    "Once the model is trained with the SVM classifier, load the model and the vector to predict the URL : ['google.com/search=VAD3R']. Comment on the result."
   ]
  },
  {
   "cell_type": "code",
   "execution_count": null,
   "metadata": {},
   "outputs": [],
   "source": [
    "#EDIT THIS CELL\n",
    "# ====================== WRITE HERE =================\n",
    "\n",
    "\n",
    "\n",
    "# ==================================================="
   ]
  }
 ],
 "metadata": {
  "kernelspec": {
   "display_name": "Python 3",
   "language": "python",
   "name": "python3"
  },
  "language_info": {
   "codemirror_mode": {
    "name": "ipython",
    "version": 3
   },
   "file_extension": ".py",
   "mimetype": "text/x-python",
   "name": "python",
   "nbconvert_exporter": "python",
   "pygments_lexer": "ipython3",
   "version": "3.7.6"
  }
 },
 "nbformat": 4,
 "nbformat_minor": 4
}
